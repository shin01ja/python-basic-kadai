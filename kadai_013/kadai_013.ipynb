{
  "nbformat": 4,
  "nbformat_minor": 0,
  "metadata": {
    "colab": {
      "provenance": [],
      "toc_visible": true
    },
    "kernelspec": {
      "name": "python3",
      "display_name": "Python 3"
    },
    "language_info": {
      "name": "python"
    }
  },
  "cells": [
    {
      "cell_type": "code",
      "execution_count": 4,
      "metadata": {
        "colab": {
          "base_uri": "https://localhost:8080/"
        },
        "id": "M44niB_TsQCL",
        "outputId": "d8dc148f-3548-4fd4-b2ae-3df10392fbf5"
      },
      "outputs": [
        {
          "output_type": "stream",
          "name": "stdout",
          "text": [
            "121.0円\n"
          ]
        }
      ],
      "source": [
        "def add_two_arguments(price, tax_fee):\n",
        "    total = price + price * tax_fee/100\n",
        "\n",
        "    print(f\"{total}円\")\n",
        "\n",
        "add_two_arguments(110, 10)"
      ]
    },
    {
      "cell_type": "code",
      "source": [],
      "metadata": {
        "id": "q76WRn0AKwZo"
      },
      "execution_count": null,
      "outputs": []
    }
  ]
}