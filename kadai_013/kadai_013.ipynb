{
  "nbformat": 4,
  "nbformat_minor": 0,
  "metadata": {
    "colab": {
      "provenance": []
    },
    "kernelspec": {
      "name": "python3",
      "display_name": "Python 3"
    },
    "language_info": {
      "name": "python"
    }
  },
  "cells": [
    {
      "cell_type": "code",
      "execution_count": 6,
      "metadata": {
        "colab": {
          "base_uri": "https://localhost:8080/"
        },
        "id": "M44niB_TsQCL",
        "outputId": "0305ba63-e9e2-4e9e-8afc-381c0a9c791e"
      },
      "outputs": [
        {
          "output_type": "stream",
          "name": "stdout",
          "text": [
            "121.0円\n"
          ]
        }
      ],
      "source": [
        "def total_prices(price, tax_fee):\n",
        "    total = price + price * tax_fee/100\n",
        "    return total\n",
        "\n",
        "total = total_prices(110, 10)\n",
        "\n",
        "print(f\"{total}円\")"
      ]
    },
    {
      "cell_type": "code",
      "source": [],
      "metadata": {
        "id": "q76WRn0AKwZo"
      },
      "execution_count": null,
      "outputs": []
    }
  ]
}