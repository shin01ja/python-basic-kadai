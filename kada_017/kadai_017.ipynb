{
  "nbformat": 4,
  "nbformat_minor": 0,
  "metadata": {
    "colab": {
      "provenance": []
    },
    "kernelspec": {
      "name": "python3",
      "display_name": "Python 3"
    },
    "language_info": {
      "name": "python"
    }
  },
  "cells": [
    {
      "cell_type": "code",
      "execution_count": 1,
      "metadata": {
        "colab": {
          "base_uri": "https://localhost:8080/"
        },
        "id": "9mICFZflcXbo",
        "outputId": "9b3b9d46-85be-4504-f270-4ac411185147"
      },
      "outputs": [
        {
          "output_type": "stream",
          "name": "stdout",
          "text": [
            "侍太郎は大人です。\n",
            "侍二郎は大人ではありません。\n",
            "侍三郎は大人です。\n",
            "侍四郎は大人ではありません。\n"
          ]
        }
      ],
      "source": [
        "class Human:\n",
        "    def __init__(self, name, age):\n",
        "        self.name = name\n",
        "        self.age = age\n",
        "\n",
        "    def check_adult(self):\n",
        "        if self.age >= 20:\n",
        "            print(f\"{self.name}は大人です。\")\n",
        "        else:\n",
        "            print(f\"{self.name}は大人ではありません。\")\n",
        "\n",
        "# インスタンスをリストに格納\n",
        "humans = [Human(\"侍太郎\", 25),\n",
        "          Human(\"侍二郎\", 18),\n",
        "          Human(\"侍三郎\", 30),\n",
        "          Human(\"侍四郎\", 16)\n",
        "          ]\n",
        "\n",
        "# リスト内の各インスタンスで check_adult メソッドを呼び出し\n",
        "for human in humans:\n",
        "    human.check_adult()"
      ]
    },
    {
      "cell_type": "code",
      "source": [],
      "metadata": {
        "id": "8HZd7Av5eXOb"
      },
      "execution_count": null,
      "outputs": []
    }
  ]
}