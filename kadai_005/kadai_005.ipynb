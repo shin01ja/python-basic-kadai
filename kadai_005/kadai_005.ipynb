{
  "nbformat": 4,
  "nbformat_minor": 0,
  "metadata": {
    "colab": {
      "provenance": []
    },
    "kernelspec": {
      "name": "python3",
      "display_name": "Python 3"
    },
    "language_info": {
      "name": "python"
    }
  },
  "cells": [
    {
      "cell_type": "code",
      "execution_count": 1,
      "metadata": {
        "colab": {
          "base_uri": "https://localhost:8080/"
        },
        "id": "NtYqNlNv2uPW",
        "outputId": "4415fad4-a709-4bb6-8e49-5d3d31226cd5"
      },
      "outputs": [
        {
          "output_type": "stream",
          "name": "stdout",
          "text": [
            "75.0cm²\n"
          ]
        }
      ],
      "source": [
        "# 台形の辺と高さを定義\n",
        "upper_base = 10 # 上底 (cm)\n",
        "lower_base = 20 # 下底 (cm)\n",
        "height = 5      # 高さ (cm)\n",
        "\n",
        "# 面積を計算\n",
        "area =  (upper_base+lower_base)*height/2\n",
        "\n",
        "# 結果を出力\n",
        "print(f\"{area}cm²\")"
      ]
    },
    {
      "cell_type": "code",
      "source": [],
      "metadata": {
        "id": "MtrHR6tz4AiA"
      },
      "execution_count": null,
      "outputs": []
    }
  ]
}