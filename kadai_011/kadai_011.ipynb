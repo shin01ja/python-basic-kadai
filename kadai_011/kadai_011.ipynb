{
  "nbformat": 4,
  "nbformat_minor": 0,
  "metadata": {
    "colab": {
      "provenance": []
    },
    "kernelspec": {
      "name": "python3",
      "display_name": "Python 3"
    },
    "language_info": {
      "name": "python"
    }
  },
  "cells": [
    {
      "cell_type": "code",
      "source": [
        "array = [\"水\", \"金\", \"地\", \"火\", \"木\", \"土\", \"天\", \"海\", \"冥\"]\n",
        "\n",
        "# 2回繰り返す\n",
        "for _ in range(2):\n",
        "    for element in array:\n",
        "        print(element)"
      ],
      "metadata": {
        "colab": {
          "base_uri": "https://localhost:8080/"
        },
        "id": "zPDgkXMXDC7v",
        "outputId": "b5f9f497-1845-437b-8774-b6f760279d00"
      },
      "execution_count": 4,
      "outputs": [
        {
          "output_type": "stream",
          "name": "stdout",
          "text": [
            "水\n",
            "金\n",
            "地\n",
            "火\n",
            "木\n",
            "土\n",
            "天\n",
            "海\n",
            "冥\n",
            "水\n",
            "金\n",
            "地\n",
            "火\n",
            "木\n",
            "土\n",
            "天\n",
            "海\n",
            "冥\n"
          ]
        }
      ]
    },
    {
      "cell_type": "code",
      "source": [
        "array = [\"水\", \"金\", \"地\", \"火\", \"木\", \"土\", \"天\", \"海\", \"冥\"]\n",
        "\n",
        "# 2回繰り返す\n",
        "i = 1\n",
        "while i < 3:\n",
        "    j = 0\n",
        "    while j < len(array):\n",
        "        print(array[j])\n",
        "        j += 1\n",
        "    i += 1"
      ],
      "metadata": {
        "colab": {
          "base_uri": "https://localhost:8080/"
        },
        "id": "J1-USs4KDY09",
        "outputId": "47a5f50a-e00a-4d0a-ae12-3327388a38eb"
      },
      "execution_count": 13,
      "outputs": [
        {
          "output_type": "stream",
          "name": "stdout",
          "text": [
            "水\n",
            "金\n",
            "地\n",
            "火\n",
            "木\n",
            "土\n",
            "天\n",
            "海\n",
            "冥\n",
            "水\n",
            "金\n",
            "地\n",
            "火\n",
            "木\n",
            "土\n",
            "天\n",
            "海\n",
            "冥\n"
          ]
        }
      ]
    },
    {
      "cell_type": "code",
      "source": [
        ""
      ],
      "metadata": {
        "id": "y5tfvLiWEDZh"
      },
      "execution_count": null,
      "outputs": []
    }
  ]
}